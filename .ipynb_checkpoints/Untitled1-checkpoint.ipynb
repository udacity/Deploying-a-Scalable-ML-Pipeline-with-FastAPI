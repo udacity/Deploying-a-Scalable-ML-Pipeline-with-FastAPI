{
 "cells": [
  {
   "cell_type": "code",
   "execution_count": 3,
   "id": "42159d06-e70d-46b0-9347-98c6024d7f3a",
   "metadata": {},
   "outputs": [],
   "source": [
    "import os\n",
    "import joblib\n",
    "import pandas as pd\n",
    "from fastapi import FastAPI\n",
    "from pydantic import BaseModel, Field\n",
    "\n",
    "from ml.data import apply_label, process_data\n",
    "from ml.model import inference, load_model"
   ]
  },
  {
   "cell_type": "code",
   "execution_count": 6,
   "id": "68f533f4-fd25-4472-88bd-4e7bd1d79e73",
   "metadata": {},
   "outputs": [],
   "source": [
    "# DO NOT MODIFY\n",
    "class Data(BaseModel):\n",
    "    age: int = Field(..., example=37)\n",
    "    workclass: str = Field(..., example=\"Private\")\n",
    "    fnlgt: int = Field(..., example=178356)\n",
    "    education: str = Field(..., example=\"HS-grad\")\n",
    "    education_num: int = Field(..., example=10, alias=\"education-num\")\n",
    "    marital_status: str = Field(\n",
    "        ..., example=\"Married-civ-spouse\", alias=\"marital-status\"\n",
    "    )\n",
    "    occupation: str = Field(..., example=\"Prof-specialty\")\n",
    "    relationship: str = Field(..., example=\"Husband\")\n",
    "    race: str = Field(..., example=\"White\")\n",
    "    sex: str = Field(..., example=\"Male\")\n",
    "    capital_gain: int = Field(..., example=0, alias=\"capital-gain\")\n",
    "    capital_loss: int = Field(..., example=0, alias=\"capital-loss\")\n",
    "    hours_per_week: int = Field(..., example=40, alias=\"hours-per-week\")\n",
    "    native_country: str = Field(..., example=\"United-States\", alias=\"native-country\")"
   ]
  },
  {
   "cell_type": "code",
   "execution_count": 7,
   "id": "4c499e19-5e14-4a91-9d14-55fb92fb1e12",
   "metadata": {},
   "outputs": [],
   "source": [
    "data = {\n",
    "    \"age\": 37,\n",
    "    \"workclass\": \"Private\",\n",
    "    \"fnlgt\": 178356,\n",
    "    \"education\": \"HS-grad\",\n",
    "    \"education-num\": 10,\n",
    "    \"marital-status\": \"Married-civ-spouse\",\n",
    "    \"occupation\": \"Prof-specialty\",\n",
    "    \"relationship\": \"Husband\",\n",
    "    \"race\": \"White\",\n",
    "    \"sex\": \"Male\",\n",
    "    \"capital-gain\": 0,\n",
    "    \"capital-loss\": 0,\n",
    "    \"hours-per-week\": 40,\n",
    "    \"native-country\": \"United-States\",\n",
    "}"
   ]
  },
  {
   "cell_type": "code",
   "execution_count": 9,
   "id": "f1a59ad5-929c-4729-869e-41e9b93ee471",
   "metadata": {},
   "outputs": [],
   "source": [
    "data_dict = data\n",
    "#data_dict = data.dict()\n",
    "# DO NOT MODIFY: clean up the dict to turn it into a Pandas DataFrame.\n",
    "# The data has names with hyphens and Python does not allow those as variable names.\n",
    "# Here it uses the functionality of FastAPI/Pydantic/etc to deal with this.\n",
    "data = {k.replace(\"_\", \"-\"): [v] for k, v in data_dict.items()}\n",
    "data = pd.DataFrame.from_dict(data)"
   ]
  },
  {
   "cell_type": "code",
   "execution_count": 10,
   "id": "5922798c-8370-4b46-9c36-8bf3ba6e7a3f",
   "metadata": {},
   "outputs": [
    {
     "data": {
      "text/html": [
       "<div>\n",
       "<style scoped>\n",
       "    .dataframe tbody tr th:only-of-type {\n",
       "        vertical-align: middle;\n",
       "    }\n",
       "\n",
       "    .dataframe tbody tr th {\n",
       "        vertical-align: top;\n",
       "    }\n",
       "\n",
       "    .dataframe thead th {\n",
       "        text-align: right;\n",
       "    }\n",
       "</style>\n",
       "<table border=\"1\" class=\"dataframe\">\n",
       "  <thead>\n",
       "    <tr style=\"text-align: right;\">\n",
       "      <th></th>\n",
       "      <th>age</th>\n",
       "      <th>workclass</th>\n",
       "      <th>fnlgt</th>\n",
       "      <th>education</th>\n",
       "      <th>education-num</th>\n",
       "      <th>marital-status</th>\n",
       "      <th>occupation</th>\n",
       "      <th>relationship</th>\n",
       "      <th>race</th>\n",
       "      <th>sex</th>\n",
       "      <th>capital-gain</th>\n",
       "      <th>capital-loss</th>\n",
       "      <th>hours-per-week</th>\n",
       "      <th>native-country</th>\n",
       "    </tr>\n",
       "  </thead>\n",
       "  <tbody>\n",
       "    <tr>\n",
       "      <th>0</th>\n",
       "      <td>37</td>\n",
       "      <td>Private</td>\n",
       "      <td>178356</td>\n",
       "      <td>HS-grad</td>\n",
       "      <td>10</td>\n",
       "      <td>Married-civ-spouse</td>\n",
       "      <td>Prof-specialty</td>\n",
       "      <td>Husband</td>\n",
       "      <td>White</td>\n",
       "      <td>Male</td>\n",
       "      <td>0</td>\n",
       "      <td>0</td>\n",
       "      <td>40</td>\n",
       "      <td>United-States</td>\n",
       "    </tr>\n",
       "  </tbody>\n",
       "</table>\n",
       "</div>"
      ],
      "text/plain": [
       "   age workclass   fnlgt education  education-num      marital-status  \\\n",
       "0   37   Private  178356   HS-grad             10  Married-civ-spouse   \n",
       "\n",
       "       occupation relationship   race   sex  capital-gain  capital-loss  \\\n",
       "0  Prof-specialty      Husband  White  Male             0             0   \n",
       "\n",
       "   hours-per-week native-country  \n",
       "0              40  United-States  "
      ]
     },
     "execution_count": 10,
     "metadata": {},
     "output_type": "execute_result"
    }
   ],
   "source": [
    "data"
   ]
  },
  {
   "cell_type": "code",
   "execution_count": 12,
   "id": "031730ec-b8c8-41e9-a258-0470f1e8df38",
   "metadata": {},
   "outputs": [],
   "source": [
    "cat_features = [\n",
    "        \"workclass\",\n",
    "        \"education\",\n",
    "        \"marital-status\",\n",
    "        \"occupation\",\n",
    "        \"relationship\",\n",
    "        \"race\",\n",
    "        \"sex\",\n",
    "        \"native-country\",\n",
    "    ]"
   ]
  },
  {
   "cell_type": "code",
   "execution_count": 17,
   "id": "44295c50-58eb-4fcf-b6e9-71530eea8bcc",
   "metadata": {},
   "outputs": [],
   "source": [
    "# project_path = '/home/lylewilliams/Deploying-a-Scalable-ML-Pipeline-with-FastAPI/'\n",
    "project_path = os.getcwd()\n",
    "encoder_path = os.path.join(project_path, \"model\", \"encoder.pkl\")\n",
    "encoder = load_model(encoder_path)"
   ]
  },
  {
   "cell_type": "code",
   "execution_count": 18,
   "id": "60c8dbf0-c854-4320-aaee-7303f7bf9f78",
   "metadata": {
    "scrolled": true
   },
   "outputs": [],
   "source": [
    "data_processed, _, _, _ = process_data(\n",
    "        data, cat_features, training = False, encoder=encoder,  # Pass the encoder object used during training\n",
    "    )"
   ]
  },
  {
   "cell_type": "code",
   "execution_count": 21,
   "id": "bfb85bb8-7af4-45a5-b10a-ae6af225da3e",
   "metadata": {},
   "outputs": [],
   "source": [
    "model = joblib.load(project_path + \"/model/model.pkl\")"
   ]
  },
  {
   "cell_type": "code",
   "execution_count": 22,
   "id": "02b25672-d598-43cb-90a3-a9be34a05b3e",
   "metadata": {},
   "outputs": [
    {
     "ename": "NameError",
     "evalue": "name '_inference' is not defined",
     "output_type": "error",
     "traceback": [
      "\u001b[0;31m---------------------------------------------------------------------------\u001b[0m",
      "\u001b[0;31mNameError\u001b[0m                                 Traceback (most recent call last)",
      "Cell \u001b[0;32mIn[22], line 1\u001b[0m\n\u001b[0;32m----> 1\u001b[0m _inference \u001b[38;5;241m=\u001b[39m \u001b[43m_inference\u001b[49m(model, data_processed)\n",
      "\u001b[0;31mNameError\u001b[0m: name '_inference' is not defined"
     ]
    }
   ],
   "source": [
    "_inference = _inference(model, data_processed)"
   ]
  },
  {
   "cell_type": "code",
   "execution_count": null,
   "id": "ab7c9977-e02b-429b-a12e-a4b70c54415c",
   "metadata": {},
   "outputs": [],
   "source": []
  }
 ],
 "metadata": {
  "kernelspec": {
   "display_name": "Python 3 (ipykernel)",
   "language": "python",
   "name": "python3"
  },
  "language_info": {
   "codemirror_mode": {
    "name": "ipython",
    "version": 3
   },
   "file_extension": ".py",
   "mimetype": "text/x-python",
   "name": "python",
   "nbconvert_exporter": "python",
   "pygments_lexer": "ipython3",
   "version": "3.8.15"
  }
 },
 "nbformat": 4,
 "nbformat_minor": 5
}
